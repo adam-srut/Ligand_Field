{
 "cells": [
  {
   "cell_type": "code",
   "execution_count": 2,
   "metadata": {},
   "outputs": [],
   "source": [
    "using WignerSymbols, SphericalHarmonics\n",
    "using Plots; gr(); theme(:vibrant);\n",
    "using Printf\n",
    "using DataFrames\n",
    "using LinearAlgebra\n",
    "using Luxor\n",
    "ENV[\"COLUMNS\"]=200;"
   ]
  },
  {
   "cell_type": "markdown",
   "metadata": {},
   "source": [
    "# Crystal field theory\n",
    "    \n",
    "    In this exercise ..."
   ]
  },
  {
   "cell_type": "code",
   "execution_count": 3,
   "metadata": {
    "scrolled": true
   },
   "outputs": [],
   "source": [
    "include(\"./CF_functions.jl\");"
   ]
  },
  {
   "cell_type": "markdown",
   "metadata": {},
   "source": [
    "## Example: Metal-ion in a cubic field\n",
    "        \n",
    "Bellow you will find the example use of this notebook. \n",
    "\n",
    "### Creating the complex:\n",
    "The positions of ligands in spherical coordinates have to be specified in arrays `ligands_θ` and `ligands_ϕ`, we assume that the distance to the metal ion is the same for all the ligands.\n",
    "    \n",
    "Geometry of cubic complex is demonstrated bellow:\n",
    "\n",
    "\n",
    "    "
   ]
  },
  {
   "cell_type": "code",
   "execution_count": 4,
   "metadata": {},
   "outputs": [
    {
     "data": {
      "image/svg+xml": [
       "<?xml version=\"1.0\" encoding=\"utf-8\"?>\n",
       "<svg xmlns=\"http://www.w3.org/2000/svg\" xmlns:xlink=\"http://www.w3.org/1999/xlink\" width=\"600\" height=\"400\" viewBox=\"0 0 2400 1600\">\n",
       "<defs>\n",
       "  <clipPath id=\"clip480\">\n",
       "    <rect x=\"0\" y=\"0\" width=\"2400\" height=\"1600\"/>\n",
       "  </clipPath>\n",
       "</defs>\n",
       "<path clip-path=\"url(#clip480)\" d=\"\n",
       "M0 1600 L2400 1600 L2400 0 L0 0  Z\n",
       "  \" fill=\"#ffffff\" fill-rule=\"evenodd\" fill-opacity=\"1\"/>\n",
       "<defs>\n",
       "  <clipPath id=\"clip481\">\n",
       "    <rect x=\"480\" y=\"0\" width=\"1681\" height=\"1600\"/>\n",
       "  </clipPath>\n",
       "</defs>\n",
       "<defs>\n",
       "  <clipPath id=\"clip482\">\n",
       "    <rect x=\"47\" y=\"47\" width=\"2307\" height=\"1507\"/>\n",
       "  </clipPath>\n",
       "</defs>\n",
       "<path clip-path=\"url(#clip482)\" d=\"\n",
       "M47.2441 1463.82 L47.2441 314.049 L891.12 47.2441 L2352.76 136.179 L2352.76 1285.95 L1508.88 1552.76 L47.2441 1463.82  Z\n",
       "  \" fill=\"#ffffff\" fill-rule=\"evenodd\" fill-opacity=\"1\"/>\n",
       "<polyline clip-path=\"url(#clip482)\" style=\"stroke:#000000; stroke-linecap:butt; stroke-linejoin:round; stroke-width:4.8; stroke-opacity:1; fill:none\" points=\"\n",
       "  2287.51,173.754 1200,800 908.604,89.8529 1200,800 112.494,341.556 1200,800 1491.4,425.457 1200,800 2287.51,1258.44 1200,800 \n",
       "  908.604,1174.54 1200,800 112.494,1426.25 1200,800 1491.4,1510.15 1200,800 \n",
       "  \"/>\n",
       "<circle clip-path=\"url(#clip482)\" cx=\"2287.51\" cy=\"173.754\" r=\"43\" fill=\"#add8e6\" fill-rule=\"evenodd\" fill-opacity=\"0.99\" stroke=\"#000000\" stroke-opacity=\"0.99\" stroke-width=\"3.2\"/>\n",
       "<circle clip-path=\"url(#clip482)\" cx=\"908.604\" cy=\"89.8529\" r=\"43\" fill=\"#add8e6\" fill-rule=\"evenodd\" fill-opacity=\"0.99\" stroke=\"#000000\" stroke-opacity=\"0.99\" stroke-width=\"3.2\"/>\n",
       "<circle clip-path=\"url(#clip482)\" cx=\"112.494\" cy=\"341.556\" r=\"43\" fill=\"#add8e6\" fill-rule=\"evenodd\" fill-opacity=\"0.99\" stroke=\"#000000\" stroke-opacity=\"0.99\" stroke-width=\"3.2\"/>\n",
       "<circle clip-path=\"url(#clip482)\" cx=\"1491.4\" cy=\"425.457\" r=\"43\" fill=\"#add8e6\" fill-rule=\"evenodd\" fill-opacity=\"0.99\" stroke=\"#000000\" stroke-opacity=\"0.99\" stroke-width=\"3.2\"/>\n",
       "<circle clip-path=\"url(#clip482)\" cx=\"2287.51\" cy=\"1258.44\" r=\"43\" fill=\"#add8e6\" fill-rule=\"evenodd\" fill-opacity=\"0.99\" stroke=\"#000000\" stroke-opacity=\"0.99\" stroke-width=\"3.2\"/>\n",
       "<circle clip-path=\"url(#clip482)\" cx=\"908.604\" cy=\"1174.54\" r=\"43\" fill=\"#add8e6\" fill-rule=\"evenodd\" fill-opacity=\"0.99\" stroke=\"#000000\" stroke-opacity=\"0.99\" stroke-width=\"3.2\"/>\n",
       "<circle clip-path=\"url(#clip482)\" cx=\"112.494\" cy=\"1426.25\" r=\"43\" fill=\"#add8e6\" fill-rule=\"evenodd\" fill-opacity=\"0.99\" stroke=\"#000000\" stroke-opacity=\"0.99\" stroke-width=\"3.2\"/>\n",
       "<circle clip-path=\"url(#clip482)\" cx=\"1491.4\" cy=\"1510.15\" r=\"43\" fill=\"#add8e6\" fill-rule=\"evenodd\" fill-opacity=\"0.99\" stroke=\"#000000\" stroke-opacity=\"0.99\" stroke-width=\"3.2\"/>\n",
       "<circle clip-path=\"url(#clip482)\" cx=\"1200\" cy=\"800\" r=\"72\" fill=\"#ffa500\" fill-rule=\"evenodd\" fill-opacity=\"1\" stroke=\"#000000\" stroke-opacity=\"1\" stroke-width=\"9.6\"/>\n",
       "</svg>\n"
      ]
     },
     "execution_count": 4,
     "metadata": {},
     "output_type": "execute_result"
    }
   ],
   "source": [
    "ligands_θ = [ pi/4, pi/4, pi/4, pi/4, pi*3/4, pi*3/4, pi*3/4, pi*3/4 ];\n",
    "ligands_ϕ = [ pi/4, pi*3/4, pi*5/4, pi*7/4, pi/4, pi*3/4, pi*5/4, pi*7/4  ];\n",
    "plot_ligs(ligands_θ, ligands_ϕ)"
   ]
  },
  {
   "cell_type": "markdown",
   "metadata": {},
   "source": [
    "You can save the visualization of the complex with `savefig` function:"
   ]
  },
  {
   "cell_type": "code",
   "execution_count": 5,
   "metadata": {},
   "outputs": [],
   "source": [
    "savefig(\"cube.svg\")"
   ]
  },
  {
   "cell_type": "markdown",
   "metadata": {},
   "source": [
    "### Computing the total Hamiltonian in matrix representation\n",
    "Function `construct_Htot` takes position of ligands as arguments and returns the total Hamiltonian with elements `< dᵢ | V | dⱼ >`, where V represents a Coulomb interaction with all the ligands."
   ]
  },
  {
   "cell_type": "code",
   "execution_count": 6,
   "metadata": {},
   "outputs": [
    {
     "data": {
      "text/html": [
       "<div class=\"data-frame\"><p>5 rows × 5 columns</p><table class=\"data-frame\"><thead><tr><th></th><th>d₋₂</th><th>d₋₁</th><th>d₀</th><th>d₁</th><th>d₂</th></tr><tr><th></th><th title=\"String\">String</th><th title=\"String\">String</th><th title=\"String\">String</th><th title=\"String\">String</th><th title=\"String\">String</th></tr></thead><tbody><tr><th>1</th><td> + 8.00 F0 - 0.57 F2 - 0.15 F4</td><td></td><td></td><td></td><td> - 0.42 F4</td></tr><tr><th>2</th><td></td><td> + 8.00 F0 + 0.29 F2 + 0.62 F4</td><td></td><td></td><td></td></tr><tr><th>3</th><td></td><td></td><td> + 8.00 F0 + 0.57 F2 - 0.93 F4</td><td></td><td></td></tr><tr><th>4</th><td></td><td></td><td></td><td> + 8.00 F0 + 0.29 F2 + 0.62 F4</td><td></td></tr><tr><th>5</th><td> - 0.42 F4</td><td></td><td></td><td></td><td> + 8.00 F0 - 0.57 F2 - 0.15 F4</td></tr></tbody></table></div>"
      ],
      "text/latex": [
       "\\begin{tabular}{r|ccccc}\n",
       "\t& d₋₂ & d₋₁ & d₀ & d₁ & d₂\\\\\n",
       "\t\\hline\n",
       "\t& String & String & String & String & String\\\\\n",
       "\t\\hline\n",
       "\t1 &  + 8.00 F0 - 0.57 F2 - 0.15 F4 &  &  &  &  - 0.42 F4 \\\\\n",
       "\t2 &  &  + 8.00 F0 + 0.29 F2 + 0.62 F4 &  &  &  \\\\\n",
       "\t3 &  &  &  + 8.00 F0 + 0.57 F2 - 0.93 F4 &  &  \\\\\n",
       "\t4 &  &  &  &  + 8.00 F0 + 0.29 F2 + 0.62 F4 &  \\\\\n",
       "\t5 &  - 0.42 F4 &  &  &  &  + 8.00 F0 - 0.57 F2 - 0.15 F4 \\\\\n",
       "\\end{tabular}\n"
      ],
      "text/plain": [
       "\u001b[1m5×5 DataFrame\u001b[0m\n",
       "\u001b[1m Row \u001b[0m│\u001b[1m d₋₂                            \u001b[0m\u001b[1m d₋₁                            \u001b[0m\u001b[1m d₀                             \u001b[0m\u001b[1m d₁                             \u001b[0m\u001b[1m d₂                             \u001b[0m\n",
       "\u001b[1m     \u001b[0m│\u001b[90m String                         \u001b[0m\u001b[90m String                         \u001b[0m\u001b[90m String                         \u001b[0m\u001b[90m String                         \u001b[0m\u001b[90m String                         \u001b[0m\n",
       "─────┼────────────────────────────────────────────────────────────────────────────────────────────────────────────────────────────────────────────────────────────────\n",
       "   1 │  + 8.00 F0 - 0.57 F2 - 0.15 F4                                                                                                   - 0.42 F4\n",
       "   2 │                                  + 8.00 F0 + 0.29 F2 + 0.62 F4\n",
       "   3 │                                                                  + 8.00 F0 + 0.57 F2 - 0.93 F4\n",
       "   4 │                                                                                                  + 8.00 F0 + 0.29 F2 + 0.62 F4\n",
       "   5 │  - 0.42 F4                                                                                                                       + 8.00 F0 - 0.57 F2 - 0.15 F4"
      ]
     },
     "execution_count": 6,
     "metadata": {},
     "output_type": "execute_result"
    }
   ],
   "source": [
    "construct_Htot(ligands_θ, ligands_ϕ)"
   ]
  },
  {
   "cell_type": "code",
   "execution_count": 7,
   "metadata": {},
   "outputs": [
    {
     "data": {
      "image/png": "[encoded data removed]",
      "text/plain": []
     },
     "execution_count": 7,
     "metadata": {},
     "output_type": "execute_result"
    }
   ],
   "source": [
    "do_splitting(ligands_θ, ligands_ϕ, f0=0, f2=2, f4=1)"
   ]
  },
  {
   "cell_type": "markdown",
   "metadata": {},
   "source": [
    "## Exercise 1:\n",
    "- **Prepare a metal-ion in an octahedral field**\n",
    " - Determine the spherical coordinates of ligands in octahedral arrangement.\n",
    " - *Hint: Draw the definition of spherical coordinates*\n",
    "- **Compute total Hamiltonian in matrix representation with d-orbitals as basis**\n",
    " - Discuss the meaning of Slater-Condon parameters in the matrix elements.\n",
    " - Can you disentagnle the shift of d-orbitals to higher energies and their splitting just from the total Hamiltonian?\n",
    "- **Explore the effect of symmetry perturbation**\n",
    "  - Make a small displacements of the ligand position to break the octahedral symmetry.\n",
    "  - Compute again the total Hamiltonian and splitting of the d-orbitals.\n",
    "  - Compare with the symmetric case and discuss the results."
   ]
  },
  {
   "cell_type": "code",
   "execution_count": 8,
   "metadata": {
    "scrolled": false
   },
   "outputs": [
    {
     "data": {
      "image/svg+xml": [
       "<?xml version=\"1.0\" encoding=\"utf-8\"?>\n",
       "<svg xmlns=\"http://www.w3.org/2000/svg\" xmlns:xlink=\"http://www.w3.org/1999/xlink\" width=\"600\" height=\"400\" viewBox=\"0 0 2400 1600\">\n",
       "<defs>\n",
       "  <clipPath id=\"clip540\">\n",
       "    <rect x=\"0\" y=\"0\" width=\"2400\" height=\"1600\"/>\n",
       "  </clipPath>\n",
       "</defs>\n",
       "<path clip-path=\"url(#clip540)\" d=\"\n",
       "M0 1600 L2400 1600 L2400 0 L0 0  Z\n",
       "  \" fill=\"#ffffff\" fill-rule=\"evenodd\" fill-opacity=\"1\"/>\n",
       "<defs>\n",
       "  <clipPath id=\"clip541\">\n",
       "    <rect x=\"480\" y=\"0\" width=\"1681\" height=\"1600\"/>\n",
       "  </clipPath>\n",
       "</defs>\n",
       "<defs>\n",
       "  <clipPath id=\"clip542\">\n",
       "    <rect x=\"47\" y=\"47\" width=\"2307\" height=\"1507\"/>\n",
       "  </clipPath>\n",
       "</defs>\n",
       "<path clip-path=\"url(#clip542)\" d=\"\n",
       "M47.2441 1463.82 L47.2441 314.049 L891.12 47.2441 L2352.76 136.179 L2352.76 1285.95 L1508.88 1552.76 L47.2441 1463.82  Z\n",
       "  \" fill=\"#ffffff\" fill-rule=\"evenodd\" fill-opacity=\"1\"/>\n",
       "<polyline clip-path=\"url(#clip542)\" style=\"stroke:#000000; stroke-linecap:butt; stroke-linejoin:round; stroke-width:4.8; stroke-opacity:1; fill:none\" points=\"\n",
       "  1956.21,886.383 1192.15,806.645 1443.15,668.492 1192.15,806.645 456.975,845.545 1192.15,806.645 1005.81,1093.56 1192.15,806.645 1256.27,263.654 1192.15,806.645 \n",
       "  1066.17,1344.5 1192.15,806.645 \n",
       "  \"/>\n",
       "<circle clip-path=\"url(#clip542)\" cx=\"1956.21\" cy=\"886.383\" r=\"43\" fill=\"#add8e6\" fill-rule=\"evenodd\" fill-opacity=\"0.99\" stroke=\"#000000\" stroke-opacity=\"0.99\" stroke-width=\"3.2\"/>\n",
       "<circle clip-path=\"url(#clip542)\" cx=\"1443.15\" cy=\"668.492\" r=\"43\" fill=\"#add8e6\" fill-rule=\"evenodd\" fill-opacity=\"0.99\" stroke=\"#000000\" stroke-opacity=\"0.99\" stroke-width=\"3.2\"/>\n",
       "<circle clip-path=\"url(#clip542)\" cx=\"456.975\" cy=\"845.545\" r=\"43\" fill=\"#add8e6\" fill-rule=\"evenodd\" fill-opacity=\"0.99\" stroke=\"#000000\" stroke-opacity=\"0.99\" stroke-width=\"3.2\"/>\n",
       "<circle clip-path=\"url(#clip542)\" cx=\"1005.81\" cy=\"1093.56\" r=\"43\" fill=\"#add8e6\" fill-rule=\"evenodd\" fill-opacity=\"0.99\" stroke=\"#000000\" stroke-opacity=\"0.99\" stroke-width=\"3.2\"/>\n",
       "<circle clip-path=\"url(#clip542)\" cx=\"1256.27\" cy=\"263.654\" r=\"43\" fill=\"#add8e6\" fill-rule=\"evenodd\" fill-opacity=\"0.99\" stroke=\"#000000\" stroke-opacity=\"0.99\" stroke-width=\"3.2\"/>\n",
       "<circle clip-path=\"url(#clip542)\" cx=\"1066.17\" cy=\"1344.5\" r=\"43\" fill=\"#add8e6\" fill-rule=\"evenodd\" fill-opacity=\"0.99\" stroke=\"#000000\" stroke-opacity=\"0.99\" stroke-width=\"3.2\"/>\n",
       "<circle clip-path=\"url(#clip542)\" cx=\"1192.15\" cy=\"806.645\" r=\"72\" fill=\"#ffa500\" fill-rule=\"evenodd\" fill-opacity=\"1\" stroke=\"#000000\" stroke-opacity=\"1\" stroke-width=\"9.6\"/>\n",
       "</svg>\n"
      ]
     },
     "execution_count": 8,
     "metadata": {},
     "output_type": "execute_result"
    }
   ],
   "source": [
    "ligands_θ = [ pi/2, pi/2, pi/2, pi/2, 0, pi ] .+ rand(6)/pi;\n",
    "ligands_ϕ = [ 0, pi/2, pi, 3*pi/2, 0, 0 ] .+ rand(6)/pi;\n",
    "\n",
    "p = plot_ligs(ligands_θ, ligands_ϕ)"
   ]
  },
  {
   "cell_type": "code",
   "execution_count": 9,
   "metadata": {},
   "outputs": [
    {
     "data": {
      "text/html": [
       "<div class=\"data-frame\"><p>5 rows × 5 columns</p><table class=\"data-frame\"><thead><tr><th></th><th>d₋₂</th><th>d₋₁</th><th>d₀</th><th>d₁</th><th>d₂</th></tr><tr><th></th><th title=\"String\">String</th><th title=\"String\">String</th><th title=\"String\">String</th><th title=\"String\">String</th><th title=\"String\">String</th></tr></thead><tbody><tr><th>1</th><td> + 6.00 F0 - 0.03 F2 + 0.14 F4</td><td> + 0.07 F2 - 0.06 F4</td><td> - 0.04 F2 - 0.02 F4</td><td> - 0.09 F4</td><td> + 0.52 F4</td></tr><tr><th>2</th><td> + 0.07 F2 - 0.06 F4</td><td> + 6.00 F0 + 0.02 F2 - 0.56 F4</td><td> + 0.03 F2 + 0.16 F4</td><td> - 0.05 F2 + 0.03 F4</td><td> + 0.09 F4</td></tr><tr><th>3</th><td> - 0.04 F2 - 0.02 F4</td><td> + 0.03 F2 + 0.16 F4</td><td> + 6.00 F0 + 0.03 F2 + 0.85 F4</td><td> - 0.03 F2 - 0.16 F4</td><td> - 0.04 F2 - 0.02 F4</td></tr><tr><th>4</th><td> - 0.09 F4</td><td> - 0.05 F2 + 0.03 F4</td><td> - 0.03 F2 - 0.16 F4</td><td> + 6.00 F0 + 0.02 F2 - 0.56 F4</td><td> - 0.07 F2 + 0.06 F4</td></tr><tr><th>5</th><td> + 0.52 F4</td><td> + 0.09 F4</td><td> - 0.04 F2 - 0.02 F4</td><td> - 0.07 F2 + 0.06 F4</td><td> + 6.00 F0 - 0.03 F2 + 0.14 F4</td></tr></tbody></table></div>"
      ],
      "text/latex": [
       "\\begin{tabular}{r|ccccc}\n",
       "\t& d₋₂ & d₋₁ & d₀ & d₁ & d₂\\\\\n",
       "\t\\hline\n",
       "\t& String & String & String & String & String\\\\\n",
       "\t\\hline\n",
       "\t1 &  + 6.00 F0 - 0.03 F2 + 0.14 F4 &  + 0.07 F2 - 0.06 F4 &  - 0.04 F2 - 0.02 F4 &  - 0.09 F4 &  + 0.52 F4 \\\\\n",
       "\t2 &  + 0.07 F2 - 0.06 F4 &  + 6.00 F0 + 0.02 F2 - 0.56 F4 &  + 0.03 F2 + 0.16 F4 &  - 0.05 F2 + 0.03 F4 &  + 0.09 F4 \\\\\n",
       "\t3 &  - 0.04 F2 - 0.02 F4 &  + 0.03 F2 + 0.16 F4 &  + 6.00 F0 + 0.03 F2 + 0.85 F4 &  - 0.03 F2 - 0.16 F4 &  - 0.04 F2 - 0.02 F4 \\\\\n",
       "\t4 &  - 0.09 F4 &  - 0.05 F2 + 0.03 F4 &  - 0.03 F2 - 0.16 F4 &  + 6.00 F0 + 0.02 F2 - 0.56 F4 &  - 0.07 F2 + 0.06 F4 \\\\\n",
       "\t5 &  + 0.52 F4 &  + 0.09 F4 &  - 0.04 F2 - 0.02 F4 &  - 0.07 F2 + 0.06 F4 &  + 6.00 F0 - 0.03 F2 + 0.14 F4 \\\\\n",
       "\\end{tabular}\n"
      ],
      "text/plain": [
       "\u001b[1m5×5 DataFrame\u001b[0m\n",
       "\u001b[1m Row \u001b[0m│\u001b[1m d₋₂                            \u001b[0m\u001b[1m d₋₁                            \u001b[0m\u001b[1m d₀                             \u001b[0m\u001b[1m d₁                             \u001b[0m\u001b[1m d₂                             \u001b[0m\n",
       "\u001b[1m     \u001b[0m│\u001b[90m String                         \u001b[0m\u001b[90m String                         \u001b[0m\u001b[90m String                         \u001b[0m\u001b[90m String                         \u001b[0m\u001b[90m String                         \u001b[0m\n",
       "─────┼────────────────────────────────────────────────────────────────────────────────────────────────────────────────────────────────────────────────────────────────\n",
       "   1 │  + 6.00 F0 - 0.03 F2 + 0.14 F4   + 0.07 F2 - 0.06 F4             - 0.04 F2 - 0.02 F4             - 0.09 F4                       + 0.52 F4\n",
       "   2 │  + 0.07 F2 - 0.06 F4             + 6.00 F0 + 0.02 F2 - 0.56 F4   + 0.03 F2 + 0.16 F4             - 0.05 F2 + 0.03 F4             + 0.09 F4\n",
       "   3 │  - 0.04 F2 - 0.02 F4             + 0.03 F2 + 0.16 F4             + 6.00 F0 + 0.03 F2 + 0.85 F4   - 0.03 F2 - 0.16 F4             - 0.04 F2 - 0.02 F4\n",
       "   4 │  - 0.09 F4                       - 0.05 F2 + 0.03 F4             - 0.03 F2 - 0.16 F4             + 6.00 F0 + 0.02 F2 - 0.56 F4   - 0.07 F2 + 0.06 F4\n",
       "   5 │  + 0.52 F4                       + 0.09 F4                       - 0.04 F2 - 0.02 F4             - 0.07 F2 + 0.06 F4             + 6.00 F0 - 0.03 F2 + 0.14 F4"
      ]
     },
     "execution_count": 9,
     "metadata": {},
     "output_type": "execute_result"
    }
   ],
   "source": [
    "construct_Htot(ligands_θ, ligands_ϕ)"
   ]
  },
  {
   "cell_type": "code",
   "execution_count": 13,
   "metadata": {},
   "outputs": [
    {
     "data": {
      "image/png": "[encoded data removed]",
      "text/plain": []
     },
     "execution_count": 13,
     "metadata": {},
     "output_type": "execute_result"
    }
   ],
   "source": [
    "do_splitting(ligands_θ, ligands_ϕ, f0=0, f2=0.2, f4=1)"
   ]
  },
  {
   "cell_type": "code",
   "execution_count": null,
   "metadata": {},
   "outputs": [],
   "source": []
  }
 ],
 "metadata": {
  "@webio": {
   "lastCommId": null,
   "lastKernelId": null
  },
  "kernelspec": {
   "display_name": "Julia 1.7.1",
   "language": "julia",
   "name": "julia-1.7"
  },
  "language_info": {
   "file_extension": ".jl",
   "mimetype": "application/julia",
   "name": "julia",
   "version": "1.7.1"
  }
 },
 "nbformat": 4,
 "nbformat_minor": 4
}
