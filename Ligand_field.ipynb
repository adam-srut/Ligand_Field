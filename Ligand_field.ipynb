{
 "cells": [
  {
   "cell_type": "code",
   "execution_count": 1,
   "metadata": {},
   "outputs": [],
   "source": [
    "using WignerSymbols, SphericalHarmonics\n",
    "using Plots; gr(); theme(:vibrant);\n",
    "using Printf\n",
    "using DataFrames\n",
    "using LinearAlgebra\n",
    "using Luxor\n",
    "ENV[\"COLUMNS\"]=200;\n",
    "include(\"./LF_functions.jl\");"
   ]
  },
  {
   "cell_type": "markdown",
   "metadata": {},
   "source": [
    "# Ligand field theory\n",
    "\n",
    "<div style=\"text-align: justify\">\n",
    "In this exercise you will construct a metal complex and compute the splitting of the d-orbitals in the electrostatic field of ligands. First, let us begin with necessary theory needed to understand the idea of the ligand field theory.</div>\n",
    "\n",
    "## Basic principles\n",
    "<div style=\"text-align: justify\">\n",
    "We start with a metal ion in vacuum, we restrict ourselves only to the d-orbitals and ignore all other shells. The d-orbitals are the solution of the Schrödinger equation of an ion in vacuum. In spherical coordinates we can write the d-orbital with a magnetic quantum number $m$ as:  \n",
    "<br><center> $d_{m}(r,\\theta,\\phi) = R(r) \\cdot Y^{m}_{l=2}(\\theta,\\phi)\\tag{1}$ </center><br>\n",
    "where $R(r)$ is the radial part and $Y^{m}_{l=2}(\\theta,\\phi)$ is the angular part in a form of a spherical harmonic. Now, lets add ligands around the metal ion, ligands will be represented by point charges. The potential of the ligand field with $N_L$ ligands with position $\\mathbf{R}_i$ and charge $q_i$ at a point $\\mathbf{r}$ is:\n",
    "<br><center> $\\hat{V}^\\mathrm{LF}(\\mathbf{r}) = \\sum\\limits_{i=1}^{N_L} \\frac{q_i}{|\\mathbf{R}_i - \\mathbf{r}|}\\tag{2}$ </center><br>\n",
    "In the action of the ligand field the d-orbitals (defined in Eq. 1) are no longer a solution of the Schrödinger equation. The solution can be, however, obtained as a linear combination of the d-orbitals that has the lowest energy. The fact that the best wavefunction will have the lowest energy is called the <em>variational principle</em>.\n",
    "To find the best wavefunction with the lowest energy we have to solve so-called secular equations. It is a set of $N$ coupled equations where $N$ is the number of basis functions. In our case $N$ is equal to 5, the basis functions are the d-orbitals with different magnetic quantum number $m_l = -l,\\dots,l$ ($l=2$ for d-orbitals). The secular equation for a magnetic quantum number $m$ would have a form:\n",
    "<center> \n",
    "    $\\sum\\limits_{m'=-2}^{2} c_{m'} \\left( \n",
    "    \\int\\limits_0^\\infty \\int\\limits_0^{\\pi} \\int\\limits_0^{2\\pi}\n",
    "    ~d_{m'}^* \\hat{V}^{LF} d_{m} ~ r^2\\sin\\theta\\,\\mathrm{d}\\phi\\mathrm{d}\\theta\\mathrm{d}r\n",
    "    - \\delta_{m',m}\\epsilon \\right)\n",
    "    =0\\tag{3}$ \n",
    "</center>\n",
    "<center> \n",
    "    $\\sum\\limits_{m'=-2}^{2} c_{m'} \\left( V_{m',m} - \\delta_{m',m}\\epsilon \\right)\n",
    "    =0\\tag{4}$ \n",
    "</center>\n",
    "<br>\n",
    "where $\\epsilon$ is the energy and $\\delta_{m,m'}$ is the Kronecker-delta function. The integral in Eq. 3 represents the action of the ligand field potential on the $d_m$ orbital, multiplication from the left by a complex conjugated $d_{m'}$ orbital and integration over the whole space. These integrals are called the <em>resonance integrals</em>. In Eq. 4 we substituted the integral by term $V_{m',m}$ to simplify the whole expression. Secular equations are a system of coupled equations due to the presence of the sum over $m'$, which means that they cannot be solved individually.\n",
    "To find the solution lets write all equations in a matrix form:\n",
    "</div>\n",
    "\n",
    "<center>\n",
    "    $\\begin{pmatrix} \n",
    "    V_{-2,-2}-\\epsilon & V_{-2,-1} & V_{-2,0} & V_{-2,1} & V_{-2,2} \\\\\n",
    "    V_{-1,-2} & V_{-1,-1}-\\epsilon & V_{-1,0} & V_{-1,1} & V_{-1,2} \\\\\n",
    "    V_{0,-2} & V_{0,-1} & V_{0,0}-\\epsilon & V_{0,1} & V_{0,2} \\\\\n",
    "    V_{1,-2} & V_{0,-1} & V_{1,0} & V_{1,1}-\\epsilon & V_{1,2} \\\\\n",
    "    V_{2,-2} & V_{2,-1} & V_{2,0} & V_{2,1} & V_{2,2}-\\epsilon\n",
    "    \\end{pmatrix}\n",
    "    \\begin{pmatrix} c_{-2} \\\\ c_{-1} \\\\ c_0 \\\\ c_1 \\\\ c_2 \\end{pmatrix} = 0\\tag{5}$\n",
    "</center>\n",
    "\n",
    "<br>\n",
    "<center> $ \\left( \\mathbf{V} - \\mathbf{I}\\epsilon \\right) \\mathbf{c} = 0\\tag{6} $ </center>\n",
    "<br>\n",
    "Eq. 6 is only a compactly written Eq. 5, matrix $\\mathbf{I}$ is the identity matrix. How can we then solve these equations? Linear algebra teaches us that the system of linear equations with the right-hand-side equals to $0$ will have a non-trivial solution ($\\mathbf{c} \\ne 0$) if and only if the determinant of the system (here the so-called <em>secular determinant</em>) is zero:\n",
    "<br><center>\n",
    "    $\\det| \\mathbf{V} - \\mathbf{I}\\epsilon | = 0 \\tag{7}$\n",
    "</center><br>\n",
    "this is an algebraic equation for unknown $\\epsilon$. In our case, the left-hand-side of Eq. 7 will be a polynomial of the 5-th order which means that we are going to find 5 values of $\\epsilon$ as a solution. These will be the new energies of the d-orbitals in the ligand field potential!\n",
    "</div>\n",
    "<br><br>\n",
    "<div style=\"text-align: justify\">\n",
    "Now, it is time to take a closer look to the resonance integrals that firstly appeared in Eq. 3. If we want to construct and solve the secular equations we need to evaluate these integrals. This is not an easy task from a mathematical point of view. Luckily enough, analytical expressions for the resonance integrals in the ligand field theory can be found in the literature. \n",
    "<br><center> \n",
    "    $ V_{m',m} = \n",
    "    \\sum\\limits_{i=1}^{N_L} q_i \\left[ \n",
    "    A_{m',m} F_4(R_i) Y_4^{m'-m}(\\theta_i,\\phi_i) + \n",
    "    B_{m',m} F_2(R_i) Y_2^{m'-m}(\\theta_i,\\phi_i) +\n",
    "    C_{m',m} F_0(R_i) Y_0^{m'-m}(\\theta_i,\\phi_i) \\right]$\n",
    "</center><br>\n",
    "At a first glance this seems to be a quite complicated expression, but there is nothing to be afraid of. Lets break down the integral into individual terms.\n",
    "</div>\n",
    "\n",
    "#### Conclusion\n",
    "<div style=\"text-align: justify\">\n",
    "And what is the take-away message for the reader? Lets recap the above part without any math. We started with a metal ion in vacuum, the solution of the Schrödinger equation was represented by 5 d-orbitals. Then, we added ligands around the metal ion as point charges. \n",
    "We tried to find a new solution of the Schrödinger equation with the potential of the ligands accounted in the Hamiltonian. To do that, we employed the variational principle which lead to a system of secular equations. By solving these equations we obtained the new energy levels of the d-orbitals in the ligand field. \n",
    "In the secular equation we had to evaluate the resonance integrals, here we made a use of prior work of chemists and physicists who already found the analytical expressions for these integrals. We have evaluated these integrals except for their radial part, which we treated as a parameter. Later on, we will find that these parameters can be obtained from spectroscopic or <em>ab inito</em> calculations.     \n",
    "</div>"
   ]
  },
  {
   "cell_type": "markdown",
   "metadata": {},
   "source": [
    "## Example: Metal-ion in a cubic field\n",
    "        \n",
    "Bellow you will find the example use of this notebook demonstrated on a metal ion in a cubic field or equally charge equidistant ligands.\n",
    "\n",
    "### Creating the complex:\n",
    "The positions of ligands in spherical coordinates have to be specified in arrays `ligands_θ` and `ligands_ϕ`, we assume that the distance to the metal ion is the same for all the ligands.\n",
    "    \n",
    "Geometry of cubic complex is demonstrated bellow:\n",
    "\n",
    "\n",
    "    "
   ]
  },
  {
   "cell_type": "code",
   "execution_count": 2,
   "metadata": {},
   "outputs": [
    {
     "data": {
      "image/svg+xml": [
       "<?xml version=\"1.0\" encoding=\"utf-8\"?>\n",
       "<svg xmlns=\"http://www.w3.org/2000/svg\" xmlns:xlink=\"http://www.w3.org/1999/xlink\" width=\"600\" height=\"400\" viewBox=\"0 0 2400 1600\">\n",
       "<defs>\n",
       "  <clipPath id=\"clip150\">\n",
       "    <rect x=\"0\" y=\"0\" width=\"2400\" height=\"1600\"/>\n",
       "  </clipPath>\n",
       "</defs>\n",
       "<path clip-path=\"url(#clip150)\" d=\"\n",
       "M0 1600 L2400 1600 L2400 0 L0 0  Z\n",
       "  \" fill=\"#ffffff\" fill-rule=\"evenodd\" fill-opacity=\"1\"/>\n",
       "<defs>\n",
       "  <clipPath id=\"clip151\">\n",
       "    <rect x=\"480\" y=\"0\" width=\"1681\" height=\"1600\"/>\n",
       "  </clipPath>\n",
       "</defs>\n",
       "<defs>\n",
       "  <clipPath id=\"clip152\">\n",
       "    <rect x=\"47\" y=\"47\" width=\"2307\" height=\"1507\"/>\n",
       "  </clipPath>\n",
       "</defs>\n",
       "<path clip-path=\"url(#clip152)\" d=\"\n",
       "M47.2441 1463.82 L47.2441 314.049 L891.12 47.2441 L2352.76 136.179 L2352.76 1285.95 L1508.88 1552.76 L47.2441 1463.82  Z\n",
       "  \" fill=\"#ffffff\" fill-rule=\"evenodd\" fill-opacity=\"1\"/>\n",
       "<polyline clip-path=\"url(#clip152)\" style=\"stroke:#000000; stroke-linecap:butt; stroke-linejoin:round; stroke-width:4.8; stroke-opacity:1; fill:none\" points=\"\n",
       "  2287.51,173.754 1200,800 908.604,89.8529 1200,800 112.494,341.556 1200,800 1491.4,425.457 1200,800 2287.51,1258.44 1200,800 \n",
       "  908.604,1174.54 1200,800 112.494,1426.25 1200,800 1491.4,1510.15 1200,800 \n",
       "  \"/>\n",
       "<circle clip-path=\"url(#clip152)\" cx=\"2287.51\" cy=\"173.754\" r=\"43\" fill=\"#add8e6\" fill-rule=\"evenodd\" fill-opacity=\"0.99\" stroke=\"#000000\" stroke-opacity=\"0.99\" stroke-width=\"3.2\"/>\n",
       "<circle clip-path=\"url(#clip152)\" cx=\"908.604\" cy=\"89.8529\" r=\"43\" fill=\"#add8e6\" fill-rule=\"evenodd\" fill-opacity=\"0.99\" stroke=\"#000000\" stroke-opacity=\"0.99\" stroke-width=\"3.2\"/>\n",
       "<circle clip-path=\"url(#clip152)\" cx=\"112.494\" cy=\"341.556\" r=\"43\" fill=\"#add8e6\" fill-rule=\"evenodd\" fill-opacity=\"0.99\" stroke=\"#000000\" stroke-opacity=\"0.99\" stroke-width=\"3.2\"/>\n",
       "<circle clip-path=\"url(#clip152)\" cx=\"1491.4\" cy=\"425.457\" r=\"43\" fill=\"#add8e6\" fill-rule=\"evenodd\" fill-opacity=\"0.99\" stroke=\"#000000\" stroke-opacity=\"0.99\" stroke-width=\"3.2\"/>\n",
       "<circle clip-path=\"url(#clip152)\" cx=\"2287.51\" cy=\"1258.44\" r=\"43\" fill=\"#add8e6\" fill-rule=\"evenodd\" fill-opacity=\"0.99\" stroke=\"#000000\" stroke-opacity=\"0.99\" stroke-width=\"3.2\"/>\n",
       "<circle clip-path=\"url(#clip152)\" cx=\"908.604\" cy=\"1174.54\" r=\"43\" fill=\"#add8e6\" fill-rule=\"evenodd\" fill-opacity=\"0.99\" stroke=\"#000000\" stroke-opacity=\"0.99\" stroke-width=\"3.2\"/>\n",
       "<circle clip-path=\"url(#clip152)\" cx=\"112.494\" cy=\"1426.25\" r=\"43\" fill=\"#add8e6\" fill-rule=\"evenodd\" fill-opacity=\"0.99\" stroke=\"#000000\" stroke-opacity=\"0.99\" stroke-width=\"3.2\"/>\n",
       "<circle clip-path=\"url(#clip152)\" cx=\"1491.4\" cy=\"1510.15\" r=\"43\" fill=\"#add8e6\" fill-rule=\"evenodd\" fill-opacity=\"0.99\" stroke=\"#000000\" stroke-opacity=\"0.99\" stroke-width=\"3.2\"/>\n",
       "<circle clip-path=\"url(#clip152)\" cx=\"1200\" cy=\"800\" r=\"72\" fill=\"#ffa500\" fill-rule=\"evenodd\" fill-opacity=\"1\" stroke=\"#000000\" stroke-opacity=\"1\" stroke-width=\"9.6\"/>\n",
       "</svg>\n"
      ]
     },
     "execution_count": 2,
     "metadata": {},
     "output_type": "execute_result"
    }
   ],
   "source": [
    "ligands_θ = [ pi/4, pi/4, pi/4, pi/4, pi*3/4, pi*3/4, pi*3/4, pi*3/4 ];\n",
    "ligands_ϕ = [ pi/4, pi*3/4, pi*5/4, pi*7/4, pi/4, pi*3/4, pi*5/4, pi*7/4  ];\n",
    "plot_ligs(ligands_θ, ligands_ϕ)"
   ]
  },
  {
   "cell_type": "markdown",
   "metadata": {},
   "source": [
    "You can save the visualization of the complex with `savefig` function:"
   ]
  },
  {
   "cell_type": "code",
   "execution_count": 3,
   "metadata": {},
   "outputs": [],
   "source": [
    "#savefig(\"cube.svg\")"
   ]
  },
  {
   "cell_type": "markdown",
   "metadata": {},
   "source": [
    "### Computing the total Hamiltonian in matrix representation\n",
    "Function `construct_Htot` takes position of ligands as arguments and returns the total Hamiltonian with elements $< d_i | \\hat{V} | d_j >$, where $\\hat{V}$ represents a Coulomb interaction with all the ligands."
   ]
  },
  {
   "cell_type": "code",
   "execution_count": 4,
   "metadata": {},
   "outputs": [
    {
     "data": {
      "text/html": [
       "<div class=\"data-frame\"><p>5 rows × 5 columns</p><table class=\"data-frame\"><thead><tr><th></th><th>d₋₂</th><th>d₋₁</th><th>d₀</th><th>d₁</th><th>d₂</th></tr><tr><th></th><th title=\"String\">String</th><th title=\"String\">String</th><th title=\"String\">String</th><th title=\"String\">String</th><th title=\"String\">String</th></tr></thead><tbody><tr><th>1</th><td> + 8.00 F0 - 0.57 F2 - 0.15 F4</td><td></td><td></td><td></td><td> - 0.42 F4</td></tr><tr><th>2</th><td></td><td> + 8.00 F0 + 0.29 F2 + 0.62 F4</td><td></td><td></td><td></td></tr><tr><th>3</th><td></td><td></td><td> + 8.00 F0 + 0.57 F2 - 0.93 F4</td><td></td><td></td></tr><tr><th>4</th><td></td><td></td><td></td><td> + 8.00 F0 + 0.29 F2 + 0.62 F4</td><td></td></tr><tr><th>5</th><td> - 0.42 F4</td><td></td><td></td><td></td><td> + 8.00 F0 - 0.57 F2 - 0.15 F4</td></tr></tbody></table></div>"
      ],
      "text/latex": [
       "\\begin{tabular}{r|ccccc}\n",
       "\t& d₋₂ & d₋₁ & d₀ & d₁ & d₂\\\\\n",
       "\t\\hline\n",
       "\t& String & String & String & String & String\\\\\n",
       "\t\\hline\n",
       "\t1 &  + 8.00 F0 - 0.57 F2 - 0.15 F4 &  &  &  &  - 0.42 F4 \\\\\n",
       "\t2 &  &  + 8.00 F0 + 0.29 F2 + 0.62 F4 &  &  &  \\\\\n",
       "\t3 &  &  &  + 8.00 F0 + 0.57 F2 - 0.93 F4 &  &  \\\\\n",
       "\t4 &  &  &  &  + 8.00 F0 + 0.29 F2 + 0.62 F4 &  \\\\\n",
       "\t5 &  - 0.42 F4 &  &  &  &  + 8.00 F0 - 0.57 F2 - 0.15 F4 \\\\\n",
       "\\end{tabular}\n"
      ],
      "text/plain": [
       "\u001b[1m5×5 DataFrame\u001b[0m\n",
       "\u001b[1m Row \u001b[0m│\u001b[1m d₋₂                            \u001b[0m\u001b[1m d₋₁                            \u001b[0m\u001b[1m d₀                             \u001b[0m\u001b[1m d₁                             \u001b[0m\u001b[1m d₂                             \u001b[0m\n",
       "\u001b[1m     \u001b[0m│\u001b[90m String                         \u001b[0m\u001b[90m String                         \u001b[0m\u001b[90m String                         \u001b[0m\u001b[90m String                         \u001b[0m\u001b[90m String                         \u001b[0m\n",
       "─────┼────────────────────────────────────────────────────────────────────────────────────────────────────────────────────────────────────────────────────────────────\n",
       "   1 │  + 8.00 F0 - 0.57 F2 - 0.15 F4                                                                                                   - 0.42 F4\n",
       "   2 │                                  + 8.00 F0 + 0.29 F2 + 0.62 F4\n",
       "   3 │                                                                  + 8.00 F0 + 0.57 F2 - 0.93 F4\n",
       "   4 │                                                                                                  + 8.00 F0 + 0.29 F2 + 0.62 F4\n",
       "   5 │  - 0.42 F4                                                                                                                       + 8.00 F0 - 0.57 F2 - 0.15 F4"
      ]
     },
     "execution_count": 4,
     "metadata": {},
     "output_type": "execute_result"
    }
   ],
   "source": [
    "construct_Htot(ligands_θ, ligands_ϕ)"
   ]
  },
  {
   "cell_type": "markdown",
   "metadata": {},
   "source": [
    "Function `do_splitting` will plot the energy the new energy levels of the d-orbitals. This is done by solving the secular equations in form:\n",
    "<center> $ det\\left( \\mathbf{H}^{tot} - \\epsilon\\mathbf{I} \\right) = 0 $ </center>\n",
    "The Slater-Condon parameters ($F_0$, $F_2$ and $F_4$) has to be provided.\n",
    "\n",
    "*Absolute values of Slater-Condon parameters are arbitrary, do not use a large number so the new energies will be within the range of the plot. Parameter $F_0$ should not be larger than 0.3.*"
   ]
  },
  {
   "cell_type": "code",
   "execution_count": 5,
   "metadata": {},
   "outputs": [
    {
     "data": {
      "image/png": "[encoded data removed]",
      "text/plain": []
     },
     "execution_count": 5,
     "metadata": {},
     "output_type": "execute_result"
    }
   ],
   "source": [
    "do_splitting(ligands_θ, ligands_ϕ, f0=0, f2=2, f4=1)"
   ]
  },
  {
   "cell_type": "markdown",
   "metadata": {},
   "source": [
    "## Exercise 1: Optical transitions in [Cr(H$_2$O)$_6$]$^{3+}$\n",
    "- **Prepare a metal-ion in an octahedral field**\n",
    " - Determine the spherical coordinates of ligands in octahedral arrangement.\n",
    " - *Hint: Draw the definition of spherical coordinates*\n",
    "- **Compute total Hamiltonian in matrix representation with d-orbitals as basis**\n",
    " - Discuss the meaning of Slater-Condon parameters in the matrix elements.\n",
    " - Can you disentagnle the shift of d-orbitals to higher energies and their splitting just from the total Hamiltonian?\n",
    " - The total Hamiltonian is computed in the basis of d$_{-2}$, d$_{-1}$, d$_0$, d$_1$ and d$_2$. What is the relation between these orbitals and orbitals d$_{z^2}$, d$_{xz}$, d$_{xy}$, d$_{yz}$ and d$_{x^2-y^2}$? \n",
    "- **Explore the effect of symmetry perturbation**\n",
    "  - Make a small displacements of the ligand position in order to break the octahedral symmetry.\n",
    "  - Compute again the total Hamiltonian and splitting of the d-orbitals.\n",
    "  - Compare with the symmetric case and discuss the results."
   ]
  },
  {
   "cell_type": "code",
   "execution_count": 6,
   "metadata": {
    "scrolled": false
   },
   "outputs": [
    {
     "data": {
      "image/svg+xml": [
       "<?xml version=\"1.0\" encoding=\"utf-8\"?>\n",
       "<svg xmlns=\"http://www.w3.org/2000/svg\" xmlns:xlink=\"http://www.w3.org/1999/xlink\" width=\"600\" height=\"400\" viewBox=\"0 0 2400 1600\">\n",
       "<defs>\n",
       "  <clipPath id=\"clip180\">\n",
       "    <rect x=\"0\" y=\"0\" width=\"2400\" height=\"1600\"/>\n",
       "  </clipPath>\n",
       "</defs>\n",
       "<path clip-path=\"url(#clip180)\" d=\"\n",
       "M0 1600 L2400 1600 L2400 0 L0 0  Z\n",
       "  \" fill=\"#ffffff\" fill-rule=\"evenodd\" fill-opacity=\"1\"/>\n",
       "<defs>\n",
       "  <clipPath id=\"clip181\">\n",
       "    <rect x=\"480\" y=\"0\" width=\"1681\" height=\"1600\"/>\n",
       "  </clipPath>\n",
       "</defs>\n",
       "<defs>\n",
       "  <clipPath id=\"clip182\">\n",
       "    <rect x=\"47\" y=\"47\" width=\"2307\" height=\"1507\"/>\n",
       "  </clipPath>\n",
       "</defs>\n",
       "<path clip-path=\"url(#clip182)\" d=\"\n",
       "M47.2441 1463.82 L47.2441 314.049 L891.12 47.2441 L2352.76 136.179 L2352.76 1285.95 L1508.88 1552.76 L47.2441 1463.82  Z\n",
       "  \" fill=\"#ffffff\" fill-rule=\"evenodd\" fill-opacity=\"1\"/>\n",
       "<polyline clip-path=\"url(#clip182)\" style=\"stroke:#000000; stroke-linecap:butt; stroke-linejoin:round; stroke-width:4.8; stroke-opacity:1; fill:none\" points=\"\n",
       "  1994.79,964.05 1221.87,806.621 1615.9,720.397 1221.87,806.621 482.702,821.068 1221.87,806.621 935.063,1022.73 1221.87,806.621 1279.94,261.555 1221.87,806.621 \n",
       "  1078.83,1343.03 1221.87,806.621 \n",
       "  \"/>\n",
       "<circle clip-path=\"url(#clip182)\" cx=\"1994.79\" cy=\"964.05\" r=\"43\" fill=\"#add8e6\" fill-rule=\"evenodd\" fill-opacity=\"0.99\" stroke=\"#000000\" stroke-opacity=\"0.99\" stroke-width=\"3.2\"/>\n",
       "<circle clip-path=\"url(#clip182)\" cx=\"1615.9\" cy=\"720.397\" r=\"43\" fill=\"#add8e6\" fill-rule=\"evenodd\" fill-opacity=\"0.99\" stroke=\"#000000\" stroke-opacity=\"0.99\" stroke-width=\"3.2\"/>\n",
       "<circle clip-path=\"url(#clip182)\" cx=\"482.702\" cy=\"821.068\" r=\"43\" fill=\"#add8e6\" fill-rule=\"evenodd\" fill-opacity=\"0.99\" stroke=\"#000000\" stroke-opacity=\"0.99\" stroke-width=\"3.2\"/>\n",
       "<circle clip-path=\"url(#clip182)\" cx=\"935.063\" cy=\"1022.73\" r=\"43\" fill=\"#add8e6\" fill-rule=\"evenodd\" fill-opacity=\"0.99\" stroke=\"#000000\" stroke-opacity=\"0.99\" stroke-width=\"3.2\"/>\n",
       "<circle clip-path=\"url(#clip182)\" cx=\"1279.94\" cy=\"261.555\" r=\"43\" fill=\"#add8e6\" fill-rule=\"evenodd\" fill-opacity=\"0.99\" stroke=\"#000000\" stroke-opacity=\"0.99\" stroke-width=\"3.2\"/>\n",
       "<circle clip-path=\"url(#clip182)\" cx=\"1078.83\" cy=\"1343.03\" r=\"43\" fill=\"#add8e6\" fill-rule=\"evenodd\" fill-opacity=\"0.99\" stroke=\"#000000\" stroke-opacity=\"0.99\" stroke-width=\"3.2\"/>\n",
       "<circle clip-path=\"url(#clip182)\" cx=\"1221.87\" cy=\"806.621\" r=\"72\" fill=\"#ffa500\" fill-rule=\"evenodd\" fill-opacity=\"1\" stroke=\"#000000\" stroke-opacity=\"1\" stroke-width=\"9.6\"/>\n",
       "</svg>\n"
      ]
     },
     "execution_count": 6,
     "metadata": {},
     "output_type": "execute_result"
    }
   ],
   "source": [
    "ligands_θ = [ pi/2, pi/2, pi/2, pi/2, 0, pi ] .+ rand(6)/pi;\n",
    "ligands_ϕ = [ 0, pi/2, pi, 3*pi/2, 0, 0 ] .+ rand(6)/pi;\n",
    "\n",
    "p = plot_ligs(ligands_θ, ligands_ϕ)"
   ]
  },
  {
   "cell_type": "code",
   "execution_count": 7,
   "metadata": {},
   "outputs": [
    {
     "data": {
      "text/html": [
       "<div class=\"data-frame\"><p>5 rows × 5 columns</p><table class=\"data-frame\"><thead><tr><th></th><th>d₋₂</th><th>d₋₁</th><th>d₀</th><th>d₁</th><th>d₂</th></tr><tr><th></th><th title=\"String\">String</th><th title=\"String\">String</th><th title=\"String\">String</th><th title=\"String\">String</th><th title=\"String\">String</th></tr></thead><tbody><tr><th>1</th><td> + 6.00 F0 - 0.03 F2 + 0.14 F4</td><td> + 0.02 F2 - 0.08 F4</td><td> + 0.02 F2 + 0.05 F4</td><td> + 0.00 F4</td><td> + 0.64 F4</td></tr><tr><th>2</th><td> + 0.02 F2 - 0.08 F4</td><td> + 6.00 F0 + 0.02 F2 - 0.55 F4</td><td> + 0.01 F2 + 0.20 F4</td><td> + 0.03 F2 - 0.08 F4</td><td> - 0.00 F4</td></tr><tr><th>3</th><td> + 0.02 F2 + 0.05 F4</td><td> + 0.01 F2 + 0.20 F4</td><td> + 6.00 F0 + 0.03 F2 + 0.83 F4</td><td> - 0.01 F2 - 0.20 F4</td><td> + 0.02 F2 + 0.05 F4</td></tr><tr><th>4</th><td> + 0.00 F4</td><td> + 0.03 F2 - 0.08 F4</td><td> - 0.01 F2 - 0.20 F4</td><td> + 6.00 F0 + 0.02 F2 - 0.55 F4</td><td> - 0.02 F2 + 0.08 F4</td></tr><tr><th>5</th><td> + 0.64 F4</td><td> - 0.00 F4</td><td> + 0.02 F2 + 0.05 F4</td><td> - 0.02 F2 + 0.08 F4</td><td> + 6.00 F0 - 0.03 F2 + 0.14 F4</td></tr></tbody></table></div>"
      ],
      "text/latex": [
       "\\begin{tabular}{r|ccccc}\n",
       "\t& d₋₂ & d₋₁ & d₀ & d₁ & d₂\\\\\n",
       "\t\\hline\n",
       "\t& String & String & String & String & String\\\\\n",
       "\t\\hline\n",
       "\t1 &  + 6.00 F0 - 0.03 F2 + 0.14 F4 &  + 0.02 F2 - 0.08 F4 &  + 0.02 F2 + 0.05 F4 &  + 0.00 F4 &  + 0.64 F4 \\\\\n",
       "\t2 &  + 0.02 F2 - 0.08 F4 &  + 6.00 F0 + 0.02 F2 - 0.55 F4 &  + 0.01 F2 + 0.20 F4 &  + 0.03 F2 - 0.08 F4 &  - 0.00 F4 \\\\\n",
       "\t3 &  + 0.02 F2 + 0.05 F4 &  + 0.01 F2 + 0.20 F4 &  + 6.00 F0 + 0.03 F2 + 0.83 F4 &  - 0.01 F2 - 0.20 F4 &  + 0.02 F2 + 0.05 F4 \\\\\n",
       "\t4 &  + 0.00 F4 &  + 0.03 F2 - 0.08 F4 &  - 0.01 F2 - 0.20 F4 &  + 6.00 F0 + 0.02 F2 - 0.55 F4 &  - 0.02 F2 + 0.08 F4 \\\\\n",
       "\t5 &  + 0.64 F4 &  - 0.00 F4 &  + 0.02 F2 + 0.05 F4 &  - 0.02 F2 + 0.08 F4 &  + 6.00 F0 - 0.03 F2 + 0.14 F4 \\\\\n",
       "\\end{tabular}\n"
      ],
      "text/plain": [
       "\u001b[1m5×5 DataFrame\u001b[0m\n",
       "\u001b[1m Row \u001b[0m│\u001b[1m d₋₂                            \u001b[0m\u001b[1m d₋₁                            \u001b[0m\u001b[1m d₀                             \u001b[0m\u001b[1m d₁                             \u001b[0m\u001b[1m d₂                             \u001b[0m\n",
       "\u001b[1m     \u001b[0m│\u001b[90m String                         \u001b[0m\u001b[90m String                         \u001b[0m\u001b[90m String                         \u001b[0m\u001b[90m String                         \u001b[0m\u001b[90m String                         \u001b[0m\n",
       "─────┼────────────────────────────────────────────────────────────────────────────────────────────────────────────────────────────────────────────────────────────────\n",
       "   1 │  + 6.00 F0 - 0.03 F2 + 0.14 F4   + 0.02 F2 - 0.08 F4             + 0.02 F2 + 0.05 F4             + 0.00 F4                       + 0.64 F4\n",
       "   2 │  + 0.02 F2 - 0.08 F4             + 6.00 F0 + 0.02 F2 - 0.55 F4   + 0.01 F2 + 0.20 F4             + 0.03 F2 - 0.08 F4             - 0.00 F4\n",
       "   3 │  + 0.02 F2 + 0.05 F4             + 0.01 F2 + 0.20 F4             + 6.00 F0 + 0.03 F2 + 0.83 F4   - 0.01 F2 - 0.20 F4             + 0.02 F2 + 0.05 F4\n",
       "   4 │  + 0.00 F4                       + 0.03 F2 - 0.08 F4             - 0.01 F2 - 0.20 F4             + 6.00 F0 + 0.02 F2 - 0.55 F4   - 0.02 F2 + 0.08 F4\n",
       "   5 │  + 0.64 F4                       - 0.00 F4                       + 0.02 F2 + 0.05 F4             - 0.02 F2 + 0.08 F4             + 6.00 F0 - 0.03 F2 + 0.14 F4"
      ]
     },
     "execution_count": 7,
     "metadata": {},
     "output_type": "execute_result"
    }
   ],
   "source": [
    "construct_Htot(ligands_θ, ligands_ϕ)"
   ]
  },
  {
   "cell_type": "code",
   "execution_count": 8,
   "metadata": {},
   "outputs": [
    {
     "data": {
      "image/png": "[encoded data removed]",
      "text/plain": []
     },
     "execution_count": 8,
     "metadata": {},
     "output_type": "execute_result"
    }
   ],
   "source": [
    "do_splitting(ligands_θ, ligands_ϕ, f0=0, f2=0.2, f4=1)"
   ]
  },
  {
   "cell_type": "markdown",
   "metadata": {},
   "source": [
    "## Exercise 2: *Ab initio* calculation"
   ]
  },
  {
   "cell_type": "code",
   "execution_count": null,
   "metadata": {},
   "outputs": [],
   "source": []
  }
 ],
 "metadata": {
  "@webio": {
   "lastCommId": null,
   "lastKernelId": null
  },
  "kernelspec": {
   "display_name": "Julia 1.7.1",
   "language": "julia",
   "name": "julia-1.7"
  },
  "language_info": {
   "file_extension": ".jl",
   "mimetype": "application/julia",
   "name": "julia",
   "version": "1.7.1"
  }
 },
 "nbformat": 4,
 "nbformat_minor": 4
}
