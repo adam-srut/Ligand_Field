{
 "cells": [
  {
   "cell_type": "markdown",
   "metadata": {},
   "source": [
    "*GitHub page of the [exercise](https://github.com/adam-srut/Ligand_Field.git \"GitHub link\").*\n",
    "\n",
    "##### Load modules and function necessary for the workflow:"
   ]
  },
  {
   "cell_type": "code",
   "execution_count": 1,
   "metadata": {},
   "outputs": [],
   "source": [
    "using WignerSymbols, SphericalHarmonics\n",
    "using Plots; gr(); theme(:vibrant);\n",
    "using Printf\n",
    "using DataFrames\n",
    "using LinearAlgebra\n",
    "using Luxor\n",
    "using LaTeXStrings\n",
    "ENV[\"COLUMNS\"]=200;\n",
    "include(\"./LF_functions.jl\");"
   ]
  },
  {
   "cell_type": "markdown",
   "metadata": {},
   "source": [
    "# Ligand field theory\n",
    "\n",
    "<div style=\"text-align: justify\">\n",
    "&nbsp;&nbsp;&nbsp;&nbsp;In this exercise you will construct a metal complex and compute the splitting of the d-orbitals in the electrostatic field of ligands. You will then compare qualitative results obtained from the ligand field theory with quantum chemical ($\\textit{ab initio}$) calculations.\n",
    "</div>\n",
    "\n",
    "<div style=\"text-align: justify\">\n",
    "&nbsp;&nbsp;&nbsp;&nbsp;The ligand field theory is usually conceptualized as in the figure bellow. If a metal ion is put into a potential filed of charged ligands the d-orbitals will first go higher in energy. Subsequently, the d-orbitals are split into two to five energy levels depending on the symmetry of the ligand field. In case of octahedral ligand field, we obtain two new energy levels, the doubly degenerate e$_\\mathrm{g}$ level and triply degenerate t$_\\mathrm{2g}$ level. In the next section we will take a closer look to the origins of the splitting in the ligand field. As a result, a reader will be able to determine qualitatively the new energy levels of the d-orbitals only by specifying the ligand positions.\n",
    "</div>\n",
    "\n",
    "![splitting](splitting-example.png)\n",
    "\n",
    "## Basic principles\n",
    "<div style=\"text-align: justify\">\n",
    "&nbsp;&nbsp;&nbsp;&nbsp;First, let us begin with necessary theory needed to understand the idea of the ligand field theory. We start with a metal ion in vacuum, we restrict ourselves only to the d-orbitals and ignore all other shells. The d-orbitals are the solution of the Schrödinger equation of an ion in vacuum. In spherical coordinates we can write the d-orbital with a magnetic quantum number $m$ as:  \n",
    "<br><center>\n",
    "\\begin{equation}\n",
    "    d_{m}(r,\\theta,\\phi) = R(r) \\cdot Y^{m}_{l=2}(\\theta,\\phi)\n",
    "\\end{equation}\n",
    "</center><br>\n",
    "where $R(r)$ is the radial part and $Y^{m}_{l=2}(\\theta,\\phi)$ is the angular part in a form of a spherical harmonic. Now, lets add ligands around the metal ion. Ligands will be represented by point charges. The potential of the ligand field with $N_L$ ligands positioned at $\\mathbf{R}_i$ with charge $q_i$ at a point $\\mathbf{r}$ is:\n",
    "<br><center>\n",
    "\\begin{equation}\n",
    "    \\hat{V}^\\mathrm{LF}(\\mathbf{r}) = \\sum\\limits_{i=1}^{N_L} \\frac{q_i}{|\\mathbf{R}_i - \\mathbf{r}|}\n",
    "\\end{equation}\n",
    "</center><br>\n",
    "&nbsp;&nbsp;&nbsp;&nbsp;Under the action of the ligand field the d-orbitals (defined in Eq. 1) are no longer a solution of the Schrödinger equation. The solution can be, however, obtained as a linear combination of the d-orbitals that has the lowest energy. The fact that the best wavefunction will have the lowest energy is called the $\\textit{variational principle}$.\n",
    "To find the best wavefunction with the lowest energy we have to solve so-called secular equations. It is a set of $N$ coupled equations where $N$ is the number of basis functions. In our case $N$ is equal to 5, the basis functions are the d-orbitals with different magnetic quantum number $m_l = -l,\\dots,l$ ($l=2$ for d-orbitals). The secular equation for a magnetic quantum number $m$ would have a form:\n",
    "<center>\n",
    "\\begin{equation}\n",
    "    \\sum\\limits_{m'=-2}^{2} c_{m'} \\left( \n",
    "    \\int\\limits_0^\\infty \\int\\limits_0^{\\pi} \\int\\limits_0^{2\\pi}\n",
    "    ~d_{m'}^* \\hat{V}^{LF} d_{m} ~ r^2\\sin\\theta\\,\\mathrm{d}\\phi\\mathrm{d}\\theta\\mathrm{d}r\n",
    "    - \\delta_{m',m}\\epsilon \\right)=0\n",
    "\\end{equation}\n",
    "</center>\n",
    "<center>\n",
    "\\begin{equation}\n",
    "    \\sum\\limits_{m'=-2}^{2} c_{m'} \\left( V_{m',m} - \\delta_{m',m}\\epsilon \\right) = 0\n",
    "\\end{equation}\n",
    "</center>\n",
    "<br>\n",
    "where $\\epsilon$ is the energy and $\\delta_{m,m'}$ is the Kronecker-delta. The integral in Eq. 3 represents the action of the ligand field potential on the $d_m$ orbital, multiplied from the left by a complex conjugated $d_{m'}$ orbital and integrated over the whole space. These integrals are called the $\\textit{resonance integrals}$. In Eq. 4 we substituted the resonance integral by term $V_{m',m}$ to simplify the whole expression. Secular equations are a system of coupled equations due to the presence of the sum over $m'$, which means that they cannot be solved individually.\n",
    "To find the solution lets write all equations in a matrix form:\n",
    "</div>\n",
    "<center>\n",
    "\\begin{equation}\n",
    "    \\begin{pmatrix} \n",
    "    V_{-2,-2}-\\epsilon & V_{-2,-1} & V_{-2,0} & V_{-2,1} & V_{-2,2} \\\\\n",
    "    V_{-1,-2} & V_{-1,-1}-\\epsilon & V_{-1,0} & V_{-1,1} & V_{-1,2} \\\\\n",
    "    V_{0,-2} & V_{0,-1} & V_{0,0}-\\epsilon & V_{0,1} & V_{0,2} \\\\\n",
    "    V_{1,-2} & V_{0,-1} & V_{1,0} & V_{1,1}-\\epsilon & V_{1,2} \\\\\n",
    "    V_{2,-2} & V_{2,-1} & V_{2,0} & V_{2,1} & V_{2,2}-\\epsilon\n",
    "    \\end{pmatrix}\n",
    "    \\begin{pmatrix} c_{-2} \\\\ c_{-1} \\\\ c_0 \\\\ c_1 \\\\ c_2 \\end{pmatrix} = 0\n",
    "\\end{equation}\n",
    "</center>\n",
    "<br>\n",
    "<center>\n",
    "\\begin{equation}\n",
    "    \\left( \\mathbf{V} - \\mathbf{I}\\epsilon \\right) \\mathbf{c} = 0\n",
    "\\end{equation}\n",
    "</center>\n",
    "<br>\n",
    "<div style=\"text-align: justify\">\n",
    "Eq. 6 is only a compactly written Eq. 5, matrix $\\mathbf{I}$ is the identity matrix. How can we then solve these equations? Linear algebra teaches us that the system of linear equations with the right-hand-side equal to $0$ will have a non-trivial solution ($\\mathbf{c} \\ne 0$) if and only if the determinant of the system (here the so-called $\\textit{secular determinant}$) is zero:\n",
    "<br><center>\n",
    "\\begin{equation}\n",
    "    \\det| \\mathbf{V} - \\mathbf{I}\\epsilon | = 0\n",
    "\\end{equation}\n",
    "</center><br>\n",
    "this is an algebraic equation for unknown $\\epsilon$. In our case, the left-hand-side of Eq. 7 will be a polynomial of the 5-th order which means that we are going to find 5 values of $\\epsilon$ as a solution. These will be the new energies of the d-orbitals in the ligand field potential!\n",
    "</div>\n",
    "<br><br>\n",
    "<div style=\"text-align: justify\">\n",
    "&nbsp;&nbsp;&nbsp;&nbsp;Now, it is time to take a closer look to the resonance integrals that appeared in Eq. 3. If we want to construct and solve the secular equations we need to evaluate these integrals. This is not an easy task from a mathematical point of view. Luckily enough, analytical expressions for the resonance integrals can be found in the literature. We use an analytical expression from the book: $\\textit{Electronic structure and properties of transition metal complexes}$ by Isaac Bersurker.\n",
    "<center>\n",
    "\\begin{equation}\n",
    "    V_{m',m} = \\int\\limits_0^\\infty \\int\\limits_0^{\\pi} \\int\\limits_0^{2\\pi}\n",
    "    ~d_{m'}^* \\hat{V}^{LF} d_{m} ~ r^2\\sin\\theta\\,\\mathrm{d}\\phi\\mathrm{d}\\theta\\mathrm{d}r\n",
    "\\end{equation}\n",
    "</center>\n",
    "<br><center>\n",
    "\\begin{equation}\n",
    "    V_{m',m} = \n",
    "    \\sum\\limits_{i=1}^{N_L} q_i \\left[ \n",
    "    A_{m',m} F_4(R_i) Y_4^{m'-m}(\\theta_i,\\phi_i) + \n",
    "    B_{m',m} F_2(R_i) Y_2^{m'-m}(\\theta_i,\\phi_i) +\n",
    "    C_{m',m} F_0(R_i) Y_0^{m'-m}(\\theta_i,\\phi_i) \\right]\n",
    "\\end{equation}\n",
    "</center><br>\n",
    "&nbsp;&nbsp;&nbsp;&nbsp;At a first glance this seems to be a quite complicated expression, but there is nothing to be afraid of. Lets break down the integral in Eq. 9 into individual terms. \n",
    "We notice that each ligand contributes to the integral with three terms (content of the braket), each of these terms consists of a tabulated constant ($A_{m',m}$, $B_{m',m}$ and $C_{m',m}$), Slater$-$Condon parameter (F$_4$, F$_2$ and F$_0$) and the so-called structure parameter which has a form a spherical harmonic.\n",
    "</div>\n",
    "\n",
    "<div style=\"text-align: justify\">\n",
    "&nbsp;&nbsp;&nbsp;&nbsp;The tabulated constants $A_{m',m}$, $B_{m',m}$ and $C_{m',m}$ arise from the angular part of the integral defined in Eq. 8, they were evaluated once for all and can be found in the literature.\n",
    "</div>\n",
    "\n",
    "<div style=\"text-align: justify\">\n",
    "&nbsp;&nbsp;&nbsp;&nbsp;The Slater$-$Condon parameters F$_4$, F$_2$ and F$_0$ comes from the radial part of the integral in Eq. 8. They depend on a distance of the ligand from the metal ion. They can be in principle evaluated to get the new energies of the d-orbitals, this would, however, lead to ultimately absurd numbers! The Slater$-$Condon parameters are not evaluted, the new energies of the d-orbitals are obtained as a function of these parameters and their values are then determined by comparison with an experiment of with an $\\textit{ab initio}$ theory.\n",
    "</div>\n",
    "\n",
    "<div style=\"text-align: justify\">\n",
    "&nbsp;&nbsp;&nbsp;&nbsp;The angular positions of the ligands ($\\theta_i$ and $\\phi_i$) are inserted via the structure parameters which have a form the spherical hamonics with angular quantum number equal to the index of the Slater$-$Condon parameter. That is $Y_l(\\theta_i,\\phi_i)$ where $l=0,2,4$. Lets take a closer look on the very last term in Eq. 9, the positions of the ligands enter here through $Y_0(\\theta_i,\\phi_i)$. An attentive reader might notice that $Y_0$ is actually the angular part of a s-orbital, which has a spherical symmetry. This means that regardless of the ligand position, the $Y_0(\\theta_i,\\phi_i)$ will always have the same value! This last term is then the spherical potential of the ligands which only lifts up the energy of the d-orbitals but does not cause any splitting. Terms responsible for the splitting are the first two in Eq. 9.\n",
    "</div>\n",
    "\n",
    "### Conclusion\n",
    "\n",
    "<div style=\"text-align: justify\">\n",
    "&nbsp;&nbsp;&nbsp;&nbsp;And what is the take-away message for the reader? Lets recap the above part without any math. We started with a metal ion in vacuum, the solution of the Schrödinger equation was represented by 5 d-orbitals. Then, we added ligands around the metal ion as point charges. \n",
    "We tried to find a new solution of the Schrödinger equation with the potential of the ligands accounted in the Hamiltonian. To do that, we employed the variational principle which lead to a system of secular equations. By solving these equations we obtained the new energy levels of the d-orbitals in the ligand field. \n",
    "In the secular equation we had to evaluate the resonance integrals, here we made a use of prior work of chemists and physicists who already found the analytical expressions for these integrals. We have evaluated these integrals except for their radial part, which we treated as a parameter. These parameters can be later obtained from spectroscopic measurements or from $\\textit{ab initio}$ calculations.     \n",
    "</div>"
   ]
  },
  {
   "cell_type": "markdown",
   "metadata": {},
   "source": [
    "# Example: Metal-ion in a square planar field\n",
    "        \n",
    "Bellow you will find the example use of this notebook demonstrated on a metal ion in a square planar field or equally charge equidistant ligands.\n",
    "\n",
    "## Creating the complex:\n",
    "The positions of ligands in spherical coordinates have to be specified in arrays `ligands_theta` and `ligands_phi`, we assume that the distance to the metal ion is the same for all the ligands.\n",
    "    \n",
    "Geometry of cubic complex is demonstrated bellow:"
   ]
  },
  {
   "cell_type": "code",
   "execution_count": 2,
   "metadata": {},
   "outputs": [
    {
     "data": {
      "image/svg+xml": [
       "<?xml version=\"1.0\" encoding=\"utf-8\"?>\n",
       "<svg xmlns=\"http://www.w3.org/2000/svg\" xmlns:xlink=\"http://www.w3.org/1999/xlink\" width=\"600\" height=\"400\" viewBox=\"0 0 2400 1600\">\n",
       "<defs>\n",
       "  <clipPath id=\"clip270\">\n",
       "    <rect x=\"0\" y=\"0\" width=\"2400\" height=\"1600\"/>\n",
       "  </clipPath>\n",
       "</defs>\n",
       "<path clip-path=\"url(#clip270)\" d=\"\n",
       "M0 1600 L2400 1600 L2400 0 L0 0  Z\n",
       "  \" fill=\"#ffffff\" fill-rule=\"evenodd\" fill-opacity=\"1\"/>\n",
       "<defs>\n",
       "  <clipPath id=\"clip271\">\n",
       "    <rect x=\"480\" y=\"0\" width=\"1681\" height=\"1600\"/>\n",
       "  </clipPath>\n",
       "</defs>\n",
       "<defs>\n",
       "  <clipPath id=\"clip272\">\n",
       "    <rect x=\"47\" y=\"47\" width=\"2307\" height=\"1507\"/>\n",
       "  </clipPath>\n",
       "</defs>\n",
       "<path clip-path=\"url(#clip272)\" d=\"\n",
       "M47.2441 1463.82 L47.2441 314.049 L891.12 47.2441 L2352.76 136.179 L2352.76 1285.95 L1508.88 1552.76 L47.2441 1463.82  Z\n",
       "  \" fill=\"#ffffff\" fill-rule=\"evenodd\" fill-opacity=\"1\"/>\n",
       "<polyline clip-path=\"url(#clip272)\" style=\"stroke:#000000; stroke-linecap:butt; stroke-linejoin:round; stroke-width:4.8; stroke-opacity:1; fill:none\" points=\"\n",
       "  1930.82,844.468 1200,800 1621.94,666.597 1200,800 469.182,755.532 1200,800 778.062,933.403 1200,800 \n",
       "  \"/>\n",
       "<circle clip-path=\"url(#clip272)\" cx=\"1930.82\" cy=\"844.468\" r=\"43\" fill=\"#add8e6\" fill-rule=\"evenodd\" fill-opacity=\"0.99\" stroke=\"#000000\" stroke-opacity=\"0.99\" stroke-width=\"3.2\"/>\n",
       "<circle clip-path=\"url(#clip272)\" cx=\"1621.94\" cy=\"666.597\" r=\"43\" fill=\"#add8e6\" fill-rule=\"evenodd\" fill-opacity=\"0.99\" stroke=\"#000000\" stroke-opacity=\"0.99\" stroke-width=\"3.2\"/>\n",
       "<circle clip-path=\"url(#clip272)\" cx=\"469.182\" cy=\"755.532\" r=\"43\" fill=\"#add8e6\" fill-rule=\"evenodd\" fill-opacity=\"0.99\" stroke=\"#000000\" stroke-opacity=\"0.99\" stroke-width=\"3.2\"/>\n",
       "<circle clip-path=\"url(#clip272)\" cx=\"778.062\" cy=\"933.403\" r=\"43\" fill=\"#add8e6\" fill-rule=\"evenodd\" fill-opacity=\"0.99\" stroke=\"#000000\" stroke-opacity=\"0.99\" stroke-width=\"3.2\"/>\n",
       "<circle clip-path=\"url(#clip272)\" cx=\"1200\" cy=\"800\" r=\"72\" fill=\"#ffa500\" fill-rule=\"evenodd\" fill-opacity=\"1\" stroke=\"#000000\" stroke-opacity=\"1\" stroke-width=\"9.6\"/>\n",
       "</svg>\n"
      ]
     },
     "execution_count": 2,
     "metadata": {},
     "output_type": "execute_result"
    }
   ],
   "source": [
    "# ligands_theta = [ pi/4, pi/4, pi/4, pi/4, pi*3/4, pi*3/4, pi*3/4, pi*3/4 ];     # cuboid\n",
    "# ligands_phi = [ pi/4, pi*3/4, pi*5/4, pi*7/4, pi/4, pi*3/4, pi*5/4, pi*7/4  ];  # cuboid\n",
    "ligands_theta = [ pi/2, pi/2, pi/2, pi/2]   # Square planar\n",
    "ligands_phi = [ 0 , pi/2, pi, pi*3/2 ]      # Square planar \n",
    "plot_ligs(ligands_theta, ligands_phi)"
   ]
  },
  {
   "cell_type": "markdown",
   "metadata": {},
   "source": [
    "You can save the visualization of the complex with the `savefig` function:\n",
    "</div>"
   ]
  },
  {
   "cell_type": "code",
   "execution_count": 3,
   "metadata": {},
   "outputs": [],
   "source": [
    "#savefig(\"cube.svg\")"
   ]
  },
  {
   "cell_type": "markdown",
   "metadata": {},
   "source": [
    "## Constructing the secular equations (matrix $\\mathbf{V}$)\n",
    "Function `construct_Htot` takes position of ligands as arguments and computes the matrix $\\mathbf{V}$ defined in Eqs. 5 and 6.\n",
    "\n",
    "You can also use function `construct_Htot_DF` which takes the same arguments and return matrix $\\mathbf{V}$ in nicer format, this is, however, not suitable for exporting the notebook to pdf format."
   ]
  },
  {
   "cell_type": "code",
   "execution_count": 4,
   "metadata": {},
   "outputs": [
    {
     "data": {
      "text/latex": [
       "$\\begin{smallmatrix} + 4.00\\cdot F_0 + 0.57\\cdot F_2 + 0.07\\cdot F_4&&&& + 0.83\\cdot F_4&\\\\& + 4.00\\cdot F_0 - 0.29\\cdot F_2 - 0.29\\cdot F_4&&&&\\\\&& + 4.00\\cdot F_0 - 0.57\\cdot F_2 + 0.43\\cdot F_4&&&\\\\&&& + 4.00\\cdot F_0 - 0.29\\cdot F_2 - 0.29\\cdot F_4&&\\\\ + 0.83\\cdot F_4&&&& + 4.00\\cdot F_0 + 0.57\\cdot F_2 + 0.07\\cdot F_4&\\\\\\end{smallmatrix}$"
      ],
      "text/plain": [
       "L\"$\\begin{smallmatrix} + 4.00\\cdot F_0 + 0.57\\cdot F_2 + 0.07\\cdot F_4&&&& + 0.83\\cdot F_4&\\\\& + 4.00\\cdot F_0 - 0.29\\cdot F_2 - 0.29\\cdot F_4&&&&\\\\&& + 4.00\\cdot F_0 - 0.57\\cdot F_2 + 0.43\\cdot F_4&&&\\\\&&& + 4.00\\cdot F_0 - 0.29\\cdot F_2 - 0.29\\cdot F_4&&\\\\ + 0.83\\cdot F_4&&&& + 4.00\\cdot F_0 + 0.57\\cdot F_2 + 0.07\\cdot F_4&\\\\\\end{smallmatrix}$\""
      ]
     },
     "execution_count": 4,
     "metadata": {},
     "output_type": "execute_result"
    }
   ],
   "source": [
    "#construct_Htot_DF(ligands_theta, ligands_phi) \n",
    "construct_Htot(ligands_theta, ligands_phi)"
   ]
  },
  {
   "cell_type": "markdown",
   "metadata": {},
   "source": [
    "Function `do_splitting` will plot the energy the new energy levels of the d-orbitals. This is done by solving the secular equations.\n",
    "The Slater$-$Condon parameters ($F_0$, $F_2$ and $F_4$) has to be provided as an input along with the ligand positions. Function also saves the image as `d-orb_splitting.png` file in the notebook directory.\n",
    "\n",
    "*Absolute values of Slater$-$Condon parameters are arbitrary, do not use a large number so the new energies will be within the range of the plot. Parameter $F_0$ should not be larger than 0.3, parameters $F_2$ and $F_4$ should range between 0 and 4.*"
   ]
  },
  {
   "cell_type": "code",
   "execution_count": 5,
   "metadata": {},
   "outputs": [
    {
     "data": {
      "image/png": "[encoded data removed]",
      "text/plain": []
     },
     "execution_count": 5,
     "metadata": {},
     "output_type": "execute_result"
    }
   ],
   "source": [
    "do_splitting(ligands_theta, ligands_phi, f0=0, f2=1, f4=2.5)"
   ]
  },
  {
   "cell_type": "markdown",
   "metadata": {},
   "source": [
    "<p><div style=\"page-break-after:always;\"></div></p>"
   ]
  },
  {
   "cell_type": "markdown",
   "metadata": {},
   "source": [
    "# Studied problem\n",
    "\n",
    "Complex [Cr(H$_2$O)$_6$]$^{3+}$ is an octahedral complex that has a slight pink color in water solution, when acetone is added to the complex switch from octahedral arrangement to tetrahedral one, [Cr(H$_2$O)$_4$]$^{3+}$,  and get a bright blue color.\n",
    "You can watch the experiment [here](https://twitter.com/BruceLickey/status/1547282378661535750 \"Twitter - experiment\"). \n",
    "\n",
    "In the exercises your goal will be to explain why octahedral and tetrahedral arrangements of water molecule around Cr$^{3+}$ ion results in different colors and also why is the blue color more intensive that the pink one. To do so, you will use $\\textit{ab inito}$ calculations and the ligand field theory.\n",
    "\n",
    "## Exercise 1: Optical transitions in [Cr(H$_2$O)$_6$]$^{3+}$\n",
    "\n",
    "In this exercise you will follow the protocol from the example case presented above. \n",
    "\n",
    "1. Prepare a metal-ion in an octahedral field\n",
    "  - Determine the spherical coordinates of ligands in octahedral arrangement (define variables `ligands_theta` and `ligands_phi`).\n",
    "2. Compute and discuss the properties of the $\\mathbf{V}$ matrix\n",
    "  - Use function `construct_Htot` or `construct_Htot_DF`.\n",
    "  - Compute the splitting of the d-orbitals (function `do_splitting`)\n",
    "  - Vary the values of Slater$-$Condon parameter to see their impact on the splitting.\n",
    "  - Can you disentangle the shift of the d-orbitals to higher energies and their splitting just from the $\\mathbf{V}$ matrix?\n",
    "  - The $\\mathbf{V}$ matrix is computed in the basis of d$_{-2}$, d$_{-1}$, d$_0$, d$_1$ and d$_2$ orbitals. What is the relation between these orbitals and orbitals d$_{z^2}$, d$_{xz}$, d$_{xy}$, d$_{yz}$ and d$_{x^2-y^2}$? \n",
    "  - Use the scheme obtained from the function `do_splitting` and fill the orbitals with electrons to get a configuration with the lowest energy. Think about all possible excited states.\n",
    "3. Explore the effect of symmetry perturbation\n",
    "  - Build a new complex with slightly perturbed octahedral symmetry.\n",
    "  - Compute again the $\\mathbf{V}$ matrix and the splitting of the d-orbitals.\n",
    "  - Compare with the symmetric case and discuss the results.\n",
    "4. Explain the optical transition\n",
    "  - Identify the optical transition between the d-orbitals for symmetric and non-symmetric case.\n",
    "  - Is this transition allowed or forbidden? Explain why!"
   ]
  },
  {
   "cell_type": "markdown",
   "metadata": {},
   "source": [
    "###  Symmetric octahedral field "
   ]
  },
  {
   "cell_type": "code",
   "execution_count": 6,
   "metadata": {
    "scrolled": false
   },
   "outputs": [],
   "source": [
    "# ligands_theta = [  ] \n",
    "# ligands_phi = [  ] \n",
    "# plot_ligs(ligands_theta, ligands_phi)"
   ]
  },
  {
   "cell_type": "code",
   "execution_count": 7,
   "metadata": {},
   "outputs": [],
   "source": [
    "# construct_Htot(ligands_theta, ligands_phi)"
   ]
  },
  {
   "cell_type": "code",
   "execution_count": 8,
   "metadata": {},
   "outputs": [],
   "source": [
    "# do_splitting(ligands_theta, ligands_phi, f0=, f2=, f4=)"
   ]
  },
  {
   "cell_type": "markdown",
   "metadata": {},
   "source": [
    "### Distorted octahedral field "
   ]
  },
  {
   "cell_type": "code",
   "execution_count": 9,
   "metadata": {
    "scrolled": false
   },
   "outputs": [],
   "source": [
    "# ligands_theta = [  ] \n",
    "# ligands_phi = [  ] \n",
    "# plot_ligs(ligands_theta, ligands_phi)"
   ]
  },
  {
   "cell_type": "code",
   "execution_count": 10,
   "metadata": {},
   "outputs": [],
   "source": [
    "# construct_Htot(ligands_theta, ligands_phi)"
   ]
  },
  {
   "cell_type": "code",
   "execution_count": 11,
   "metadata": {},
   "outputs": [],
   "source": [
    "# do_splitting(ligands_theta, ligands_phi, f0=, f2=, f4=)"
   ]
  },
  {
   "cell_type": "markdown",
   "metadata": {},
   "source": [
    "## Exercise 2: Quantum chemical calculations\n",
    "\n",
    "In this exercise you will carry out quantum chemistry calculations with software ORCA and closely inspect the output from these calculations. The input for the $\\textit{ab initio}$ calculations is prepared in the directories: `Cr_octahedral`, `Cr_octahedral-distorted` and `Cr_tetrahedral`.\n",
    "\n",
    "1. Solve the electronic structure of the [Cr(H$_2$O)$_6$]$^{3+}$ complex.\n",
    "  - Inspect the input file in `Cr_octahedral` directory. Which concepts from the file are already familiar to you?\n",
    "  - Run the calculation.\n",
    "  - Find the excitation energies in the output file.\n",
    "    - Look for a section entitled `ABSORPTION SPECTRUM`\n",
    "  - Find and discuss the configurations of ground and excited states (guidelines are given bellow).\n",
    "2. Repeat the previous point for distorted [Cr(H$_2$O)$_6$]$^{3+}$ complex and for tetrahedral [Cr(H$_2$O)$_4$]$^{3+}$ complex.\n",
    "\n",
    "\n",
    "### Configuration of an electronic state\n",
    "<div style=\"text-align: justify\">\n",
    "&nbsp;&nbsp;&nbsp;&nbsp;When we construct a molecular orbital diagram, we subsequently fill it with electrons, configuration with the lowest energy has to satisfy the Pauli principle and the Hund rules. It may, however, also happen that two or more of these configurations will have a similar (or even the same) energy, in this case the system will be in a superposition of these configurations. This is the so-called $\\textit{multi-reference}$ state, such states occur often in transition metal complexes. The usual way how to deal with multi-reference cases in quantum chemistry is the Complete Active Space (CAS) calculation. In this method instead of exploring all possible configurations of all electron in all orbitals, we rather choose much smaller (but chemically important) space and explore all possible configurations within this space (the so-called active space). \n",
    "</div>\n",
    "\n",
    "<div style=\"text-align: justify\">\n",
    "&nbsp;&nbsp;&nbsp;&nbsp;Lets demonstrate the situation on the Cr$^{3+}$ ion. The configuration of this ion in vacuum is d$^3$ (3 electrons in the d-orbitals). Once we put this ion in the octahedral field the d-orbitals will split into two energy levels (t$_\\mathrm{2g}$ and e$_\\mathrm{g}$), the configuration with the lowest energy will be t$_\\mathrm{2g}^3$e$_\\mathrm{g}^0$ (3 electrons in t$_\\mathrm{2g}$ and zero electrons in e$_\\mathrm{g}$ level). But how the situation will look like if we perturb the octahedral geometry or if we are interested in the excited state? To answer question like these we can make use of the quantum chemical calculation.\n",
    "</div>\n",
    "\n",
    "<div style=\"text-align: justify\">\n",
    "&nbsp;&nbsp;&nbsp;&nbsp;For the CAS calculation the active space will be intuitively chosen as 3 electrons in 5 d-orbitals. Once we run the CAS calculation using ORCA program the configurations of the ground and excited states along with their energies will be printed in the output file. We are looking for a section like this:\n",
    "</div>\n",
    "\n",
    "\n",
    "```\n",
    "---------------------------------------------\n",
    "CAS-SCF STATES FOR BLOCK  1 MULT= 4 NROOTS=10\n",
    "---------------------------------------------\n",
    "\n",
    "ROOT   0:  E=   -1498.0740335493 Eh\n",
    "      0.99999 [     0]: 11100\n",
    "ROOT   1:  E=   -1498.0253371347 Eh  1.325 eV  10687.6 cm**-1\n",
    "      0.77590 [     2]: 11001\n",
    "      0.22391 [     6]: 01110\n",
    "```\n",
    "\n",
    "\n",
    "the word `ROOT` is used for the electronic state. Header of this section then tells us that bellow we will find configurations and energies of 10 electronic states with the spin multiplicity 4. The energy is listed in Hartrees and for higher states also the excitation energy is listed in eV and cm$^{-1}$.\n",
    "The configurations of the states are listed as an array of five numbers, they represent the d-orbitals ordered by their energy. So the configuration of the ground state (`ROOT 0`) given as `11100` means that 3 d-orbitals that has lowest energy contain one electron each. The remaining 2 d-orbitals with higher energy are unoccupied. We can immediately recognize the configuration t$_\\mathrm{2g}^3$e$_\\mathrm{g}^0$.\n",
    "The first excited state (`ROOT 1`) is a multi-reference state, it is formed from 78 % by configuration `11001` and from 22 % by configuration `01110`, these correspond to configuration t$_\\mathrm{2g}^2$e$_\\mathrm{g}^1$. Orbital energies are listed in the output file just above this section, so the results can be easily compared to the results from the exercise 1.\n"
   ]
  },
  {
   "cell_type": "markdown",
   "metadata": {},
   "source": [
    "#### Running the calculations\n",
    "\n",
    "You can run the quantum chemistry calculation directly from the notebook. Use the example in the cell bellow. You only need to specify the directory in which the calculation will be done:"
   ]
  },
  {
   "cell_type": "code",
   "execution_count": 12,
   "metadata": {},
   "outputs": [],
   "source": [
    "# cmd = \"\\$ORCADIR/orca single-point-calc.inp > single-point-calc.out\"\n",
    "# run(Cmd(`/bin/bash -c $cmd`, dir=\"Cr_octahedral\"));"
   ]
  },
  {
   "cell_type": "markdown",
   "metadata": {},
   "source": [
    "#### Excitation energies\n",
    "\n",
    "The excitation energies are listed in the output file in the section entitled `ABSORPTION SPECTRUM`. You can print the content of this section directly from the notebook using a function `print_ExE`, the directory with the output file has to be specified."
   ]
  },
  {
   "cell_type": "code",
   "execution_count": 13,
   "metadata": {},
   "outputs": [],
   "source": [
    "# print_ExE(\"Cr_octahedral\")"
   ]
  },
  {
   "cell_type": "markdown",
   "metadata": {},
   "source": [
    "### Octahedral complex [Cr(H$_2$O)$_6$]$^{3+}$"
   ]
  },
  {
   "cell_type": "code",
   "execution_count": null,
   "metadata": {},
   "outputs": [],
   "source": []
  },
  {
   "cell_type": "markdown",
   "metadata": {},
   "source": [
    "### Distorted complex [Cr(H$_2$O)$_6$]$^{3+}$"
   ]
  },
  {
   "cell_type": "code",
   "execution_count": null,
   "metadata": {},
   "outputs": [],
   "source": []
  },
  {
   "cell_type": "markdown",
   "metadata": {},
   "source": [
    "### Tetrahedral complex  [Cr(H$_2$O)$_4$]$^{3+}$"
   ]
  },
  {
   "cell_type": "code",
   "execution_count": null,
   "metadata": {},
   "outputs": [],
   "source": []
  },
  {
   "cell_type": "markdown",
   "metadata": {},
   "source": [
    "## Exercise 3: Summarizing the results\n",
    "\n",
    "1. Which transitions between the d-orbitals is responsible for the pink color of the octahedral complex?\n",
    "2. Why are the transitions in octahedral complex visible (allowed)?\n",
    "3. Which transition between the d-orbitals is responsible for the blue color of the tetrahedral complex?\n",
    "4. Use the generated images of the d-orbital splitting to schematically draw the transitions.\n",
    "5. Is the splitting larger in octahedral or tetrahedral complex?\n",
    "6. For which complex would you expect larger shift of the d-orbitals caused by spherical contribution of the ligand field?"
   ]
  },
  {
   "cell_type": "code",
   "execution_count": null,
   "metadata": {},
   "outputs": [],
   "source": []
  }
 ],
 "metadata": {
  "@webio": {
   "lastCommId": null,
   "lastKernelId": null
  },
  "kernelspec": {
   "display_name": "Julia 1.7.1",
   "language": "julia",
   "name": "julia-1.7"
  },
  "language_info": {
   "file_extension": ".jl",
   "mimetype": "application/julia",
   "name": "julia",
   "version": "1.7.1"
  }
 },
 "nbformat": 4,
 "nbformat_minor": 4
}
